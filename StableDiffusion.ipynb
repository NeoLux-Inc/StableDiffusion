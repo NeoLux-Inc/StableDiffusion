{
  "cells": [
    {
      "cell_type": "markdown",
      "metadata": {
        "colab_type": "text",
        "id": "view-in-github"
      },
      "source": [
        "<a href=\"https://colab.research.google.com/github/NeoLux-Inc/StableDiffusion/blob/main/StableDiffusion.ipynb\" target=\"_parent\"><img src=\"https://colab.research.google.com/assets/colab-badge.svg\" alt=\"Open In Colab\"/></a>"
      ]
    },
    {
      "cell_type": "markdown",
      "metadata": {},
      "source": [
        "必要なライブラリのインストール"
      ]
    },
    {
      "cell_type": "code",
      "execution_count": null,
      "metadata": {
        "id": "dPirPP0VpRQB"
      },
      "outputs": [],
      "source": [
        "!pip install albumentations==0.4.3\n",
        "!pip install diffusers==0.12.1\n",
        "!pip install opencv-python==4.5.4.58\n",
        "!pip install pudb==2019.2\n",
        "!pip install imageio==2.9.0\n",
        "!pip install imageio-ffmpeg==0.4.2\n",
        "!pip install pytorch-lightning==1.9.4\n",
        "!pip install omegaconf==2.1.1\n",
        "!pip install test-tube>=0.7.5\n",
        "!pip install streamlit>=0.73.1\n",
        "!pip install einops==0.3.0\n",
        "!pip install torch-fidelity==0.3.0\n",
        "!pip install transformers==4.19.2\n",
        "!pip install kornia\n",
        "!pip install -e git+https://github.com/CompVis/taming-transformers.git@master#egg=taming-transformers\n",
        "!pip install -e git+https://github.com/openai/CLIP.git@main#egg=clip\n",
        "!pip install invisible-watermark\n",
        "!pip check"
      ]
    },
    {
      "cell_type": "markdown",
      "metadata": {},
      "source": [
        "Stable Diffusionのセットアップ"
      ]
    },
    {
      "cell_type": "code",
      "execution_count": null,
      "metadata": {},
      "outputs": [],
      "source": [
        "!git clone https://github.com/CompVis/stable-diffusion.git\n",
        "%cd stable-diffusion\n",
        "!pip install -e ."
      ]
    },
    {
      "cell_type": "markdown",
      "metadata": {},
      "source": [
        "Google Drive のマウント"
      ]
    },
    {
      "cell_type": "code",
      "execution_count": null,
      "metadata": {},
      "outputs": [],
      "source": [
        "from google.colab import drive\n",
        "drive.mount('/content/drive')"
      ]
    },
    {
      "cell_type": "markdown",
      "metadata": {},
      "source": [
        "Stable Diffusion のスクリプト（txt2img.py）を実行"
      ]
    },
    {
      "cell_type": "code",
      "execution_count": null,
      "metadata": {},
      "outputs": [],
      "source": [
        "!python scripts/txt2img.py --prompt \"Mt. Fuji in the style of Gauguin\" --plms --ckpt /content/drive/MyDrive/Models/sd-v1-4.ckpt --skip_grid --n_samples 1"
      ]
    },
    {
      "cell_type": "code",
      "execution_count": null,
      "metadata": {},
      "outputs": [],
      "source": [
        "!python scripts/txt2img.py --prompt \"Mt. Fuji in the style of Gauguin\"\\\n",
        "--plms --ckpt /content/drive/MyDrive/Models/sd-v1-4.ckpt --skip_grid --n_samples 1\\\n",
        "--H 256 --W 256"
      ]
    },
    {
      "cell_type": "markdown",
      "metadata": {},
      "source": [
        "\n",
        "stable-diffusion/outputs/txt2img-samples/samples/00000.png をダブルクリックして生成画像を確認"
      ]
    },
    {
      "cell_type": "markdown",
      "metadata": {},
      "source": [
        "usage: txt2img.py\n",
        "       [-h]\n",
        "       [--prompt [PROMPT]]\n",
        "       [--outdir [OUTDIR]]\n",
        "       [--skip_grid]\n",
        "       [--skip_save]\n",
        "       [--ddim_steps DDIM_STEPS]\n",
        "       [--plms]\n",
        "       [--dpm_solver]\n",
        "       [--laion400m]\n",
        "       [--fixed_code]\n",
        "       [--ddim_eta DDIM_ETA]\n",
        "       [--n_iter N_ITER]\n",
        "       [--H H]\n",
        "       [--W W]\n",
        "       [--C C]\n",
        "       [--f F]\n",
        "       [--n_samples N_SAMPLES]\n",
        "       [--n_rows N_ROWS]\n",
        "       [--scale SCALE]\n",
        "       [--from-file FROM_FILE]\n",
        "       [--config CONFIG]\n",
        "       [--ckpt CKPT]\n",
        "       [--seed SEED]\n",
        "       [--precision {full,autocast}]"
      ]
    }
  ],
  "metadata": {
    "accelerator": "GPU",
    "colab": {
      "collapsed_sections": [],
      "include_colab_link": true,
      "name": "dualstylegan",
      "provenance": []
    },
    "kernelspec": {
      "display_name": "Python 3",
      "name": "python3"
    },
    "language_info": {
      "name": "python"
    }
  },
  "nbformat": 4,
  "nbformat_minor": 0
}
